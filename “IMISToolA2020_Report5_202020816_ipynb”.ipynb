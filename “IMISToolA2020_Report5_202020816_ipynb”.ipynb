{
  "nbformat": 4,
  "nbformat_minor": 0,
  "metadata": {
    "colab": {
      "name": "“IMISToolA2020_Report5_202020816.ipynb”",
      "provenance": [],
      "collapsed_sections": [],
      "include_colab_link": true
    },
    "kernelspec": {
      "name": "python3",
      "display_name": "Python 3"
    }
  },
  "cells": [
    {
      "cell_type": "markdown",
      "metadata": {
        "id": "view-in-github",
        "colab_type": "text"
      },
      "source": [
        "<a href=\"https://colab.research.google.com/github/toushisei/1/blob/master/%E2%80%9CIMISToolA2020_Report5_202020816_ipynb%E2%80%9D.ipynb\" target=\"_parent\"><img src=\"https://colab.research.google.com/assets/colab-badge.svg\" alt=\"Open In Colab\"/></a>"
      ]
    },
    {
      "cell_type": "markdown",
      "metadata": {
        "id": "-SqpuNOEWS-a",
        "colab_type": "text"
      },
      "source": [
        "# Report 5 (2020/07/06verA)\n",
        "\n",
        "for Tools for intelligent interaction systems a (0ALE005 / 0AL5706).\n",
        "\n",
        "---\n",
        "\n",
        "<font color=\"red\">\n",
        "If Ver.B or later, change log should be found at the end of this page.  \n",
        "\n",
        "Your ID info should be placed in the following three items (MANDATORY).\n",
        "</font>\n",
        "\n",
        "* Student ID: 202020816\n",
        "* Name: 董思斉\n",
        "* Colab account: rirun1042804451@gmail.com\n",
        "\n",
        "---\n",
        "\n",
        "Report could be written in English or Japanese. / レポートの記述は日本語でも英語でもよい．\n",
        "\n",
        "---"
      ]
    },
    {
      "cell_type": "markdown",
      "metadata": {
        "id": "1dgiRz0ptI8B",
        "colab_type": "text"
      },
      "source": [
        "---\n",
        "# Report5A: Trial on Actual DL setting on cloud\n",
        "\n",
        "1. Make an account at any of commertial cloud services (except for google colaboratory)\n",
        "2. Make a pattern recognition project and show the result (you should also show the summary of how you made that; any URLs you saw to get help should be attached in the report)\n",
        "3. Attach at least one screen shot as an evidence\n",
        "\n",
        "\n",
        "Note that you can submit the project that is provided in a tutorial course of their sites.  \n",
        "The mission here is not to build a new PR system but to show me you can dive to those sites and somehow getting familiar with their tutorial.\n",
        "\n",
        "(Colab notebook of 600 would help you.)  \n",
        "(I hope you challenge for a new one, but if you unfortunately have time or failed in new sites, mathwork might be OK as it also provides many sample DL projects) "
      ]
    },
    {
      "cell_type": "markdown",
      "metadata": {
        "id": "78rOFDMVuGKo",
        "colab_type": "text"
      },
      "source": [
        "使うツール：Microsoft Azure\n",
        "\n",
        "まずはAzure Machine Learning Studio (クラシック)を使い、信用リスクの予測についてのシステムをやってみた。\n",
        "\n",
        "URL:https://docs.microsoft.com/ja-jp/azure/machine-learning/studio/tutorial-part1-credit-risk\n",
        "\n",
        "まずは、既存のデータのアップロード、そして、Machine Learning Studio (クラシック) にデータセットをアップロードする。次は、トレーニング用およびテスト用のデータセットを作成する。結果は以下のように。\n",
        "\n",
        "![替代文字](https://github.com/toushisei/1/blob/master/QQ%E5%9B%BE%E7%89%8720200717010951.png?raw=true)\n",
        "\n",
        "まずはAzure Machine Learning Studio (クラシック)を使い、信用リスクの予測についてのシステムをやってみた。\n",
        "\n",
        "URL:https://docs.microsoft.com/ja-jp/azure/machine-learning/studio/tutorial-part1-credit-risk\n",
        "\n",
        "次は、複数のモデルをトレーニングする。ブーストデシジョンツリーモデルを設定する。そして、SVM モデルを設定する。\n",
        "\n",
        "完成したら、モデルにスコアを付け、評価する。実験を実行して結果を確認する。結果は、\n",
        "\n",
        "![替代文字](https://github.com/toushisei/1/blob/master/QQ%E5%9B%BE%E7%89%8720200717010958.png?raw=true)\n",
        "\n",
        "\n",
        "![替代文字](https://github.com/toushisei/1/blob/master/QQ%E5%9B%BE%E7%89%8720200717010955.png?raw=true)\n",
        "\n",
        "後は、信用リスクモデルをデプロイする。\n",
        "\n",
        "![替代文字](https://github.com/toushisei/1/blob/master/QQ%E5%9B%BE%E7%89%8720200717011004.png?raw=true)\n",
        "\n",
        "![替代文字](https://github.com/toushisei/1/blob/master/QQ%E5%9B%BE%E7%89%8720200717011001.png?raw=true)\n",
        "\n",
        "![替代文字](https://github.com/toushisei/1/blob/master/QQ%E5%9B%BE%E7%89%8720200717011006.png?raw=true)\n",
        "\n",
        "\n",
        "\n",
        "\n",
        "\n",
        "\n"
      ]
    },
    {
      "cell_type": "markdown",
      "metadata": {
        "id": "KcnTG6GFcUjQ",
        "colab_type": "text"
      },
      "source": [
        "以上の以外は、Python SDKでMNISTデータとscikit-learnを使用して画像の分類モデルをやってみた。 URL：https://docs.microsoft.com/ja-jp/azure/machine-learning/tutorial-1st-experiment-sdk-setup\n",
        "\n",
        "これは、チュートリアルにしたがって、チュートリアルで提供したプログラムを実行したが、残念ながら、モデルを登録する時に、エラーが発生し、結果が出てこなかった。\n",
        "\n",
        "![替代文字](https://github.com/toushisei/1/blob/master/333333333.png?raw=true)\n",
        "\n",
        "![替代文字](https://github.com/toushisei/1/blob/master/2222222.png?raw=true)"
      ]
    },
    {
      "cell_type": "markdown",
      "metadata": {
        "id": "c7rf54NjW5f2",
        "colab_type": "text"
      },
      "source": [
        "---\n",
        "# Report submission\n",
        "\n",
        "The report template will be given in ipynb file.\n",
        "You should save it to your local google colaboratory folder and then edit it to fit your report.\n",
        "\n",
        "The report submission should be made at this cource (0ALE005) at https://manaba.tsukuba.ac.jp .\n",
        "Note that 0ALE005 is coupled with 0ALE002 and 0AL5706 on manaba system.\n",
        "\n",
        "\n",
        "**File (main)**\n",
        "\n",
        "Download the ipynb to your local machine and then submit the file to the manaba.\n",
        "\n",
        "**URL (backup)**\n",
        "\n",
        "Make a shared link which is open only to the alumni.tsukuba.ac.jp (筑波大学交流広場) domain.\n",
        "\n",
        "![共有可能なリンク](https://docs.google.com/drawings/d/e/2PACX-1vTDuOu8Z1nZFTqJ0yMKXedJwDnZx0hiKXoL56h21kQrDRj4C52aQX7Nn9QJZFZAgKV32lxTzuvNlory/pub?w=508&h=403)\n",
        "\n",
        "\n",
        "\n"
      ]
    },
    {
      "cell_type": "markdown",
      "metadata": {
        "id": "mrwIDJcJkSCk",
        "colab_type": "text"
      },
      "source": [
        "---\n",
        "Tools for intelligent interaction systems a  \n",
        "Master's and Docotal programs in intelligent and mechanical interaction systems, University of Tsukuba, Japan.  \n",
        "KAMEDA Yoshinari, SHIBUYA Takeshi  \n",
        "\n",
        "知能システムツール演習a  \n",
        "知能機能システム学位プログラム (筑波大学大学院)  \n",
        "担当：亀田能成，澁谷長史  \n",
        "\n",
        "\n",
        "2020/07/06. Ver.A for Report5 (5X)\n",
        "\n",
        "\n"
      ]
    }
  ]
}